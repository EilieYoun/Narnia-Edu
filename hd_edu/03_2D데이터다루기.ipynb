{
  "nbformat": 4,
  "nbformat_minor": 0,
  "metadata": {
    "colab": {
      "provenance": [],
      "toc_visible": true,
      "authorship_tag": "ABX9TyM87uxNRZDzvm5IEK6LqQvO",
      "include_colab_link": true
    },
    "kernelspec": {
      "name": "python3",
      "display_name": "Python 3"
    },
    "language_info": {
      "name": "python"
    }
  },
  "cells": [
    {
      "cell_type": "markdown",
      "metadata": {
        "id": "view-in-github",
        "colab_type": "text"
      },
      "source": [
        "<a href=\"https://colab.research.google.com/github/EilieYoun/Narnia-Edu/blob/main/hd_edu/03_2D%EB%8D%B0%EC%9D%B4%ED%84%B0%EB%8B%A4%EB%A3%A8%EA%B8%B0.ipynb\" target=\"_parent\"><img src=\"https://colab.research.google.com/assets/colab-badge.svg\" alt=\"Open In Colab\"/></a>"
      ]
    },
    {
      "cell_type": "markdown",
      "source": [
        "# 03. 2D 데이터 다루기\n",
        "\n",
        "> 목표 : 2D 데이터에 대해 이해하고, 여러가지 2D 형식 데이터를 다룬다.\n",
        "* 날짜:\n",
        "* 이름:"
      ],
      "metadata": {
        "id": "AzCh9fF2FhEV"
      }
    },
    {
      "cell_type": "markdown",
      "source": [
        "## 개념정리\n",
        "---\n",
        "\n",
        "\n",
        "2D 데이터는 평면적인 두 차원으로 구성된 데이터를 말합니다. 이러한 데이터에는 다양한 형태의 이미지와 배열이 포함될 수 있습니다. 주로 다루는 2D 데이터의 유형은 다음과 같습니다:\n",
        "\n",
        "- **RGB 이미지 데이터셋**: RGB 이미지는 빨간색, 초록색 및 파란색의 각 채널 값으로 구성된 이미지입니다. 이러한 이미지는 컬러 이미지로 알려져 있으며, 각 픽셀은 세 개의 값으로 표현됩니다.\n",
        "- **흑백 이미지 데이터셋**: 흑백 이미지는 각 픽셀이 단일 값으로 표현되는 이미지입니다. 일반적으로 0은 검은색을 나타내고, 255는 흰색을 나타냅니다. 이러한 이미지는 주로 명암이나 이진화를 표현하는 데 사용됩니다.\n",
        "- **Depth 2D 데이터셋**: Depth 데이터는 주로 3D 환경에서 각 점의 깊이 정보를 나타내는 데 사용됩니다. Depth 2D 데이터셋은 특정 평면에서의 깊이 정보를 2차원으로 나타낸 것입니다.\n",
        "- **Multi-channel 2D 데이터셋**: Multi-channel 데이터셋은 여러 개의 채널로 구성된 2D 배열입니다. 각 채널은 해당 위치에서의 다른 유형의 정보를 나타내며, 예를 들어 각 채널은 다른 센서에서 수집한 데이터를 나타낼 수 있습니다.\n",
        "\n",
        "이러한 다양한 유형의 2D 데이터는 이미지 처리, 컴퓨터 비전 및 기타 분야에서 다양한 응용 프로그램에 사용됩니다.\n",
        "\n",
        "\n",
        "\n",
        "\n",
        "\n",
        "\n",
        "\n",
        "**목차**\n",
        "\n",
        "- 이미지 데이터의 구성\n",
        "- RGB 이미지\n",
        "- 흑백 이미지\n",
        "- Depth 2D 데이터\n",
        "- Multi-channel 2D 데이터\n"
      ],
      "metadata": {
        "id": "krYcSgiuFn7O"
      }
    },
    {
      "cell_type": "markdown",
      "source": [
        "---\n",
        "### **(1) 이미지 데이터란**\n",
        "---\n",
        "\n",
        "우리가 눈으로 보는 모든 이미지 데이터는 픽셀 단위의 데이터가 들어있습니다. RGB 이미지는 보통 3개의 채널 각각에 값이 존재하고, 이 값의 조합으로 우리는 색상을 이해합니다. 이미지의 밝기가 어느정도인지 0~255 값으로 나타낼 수 있습니다.\n",
        "\n",
        "\n"
      ],
      "metadata": {
        "id": "rfLox4Tu8UH4"
      }
    },
    {
      "cell_type": "markdown",
      "source": [
        "#### **| 간단한 이미지 만들기**\n",
        "\n",
        "간단하게 이미지를 직접 만들어 보도록 하겠습니다.\n",
        "\n",
        "```\n",
        "my_img = [ [0, 0,  0,   0,  0],\n",
        "           [0, 90, 90,  90, 0],\n",
        "           [0, 90, 255, 90, 0],\n",
        "           [0, 90, 90,  90, 0],\n",
        "           [0, 0,  0,   0,  0],\n",
        "         ]\n",
        "plt.imshow(my_img, cmap='gray')\n",
        "plt.show()\n",
        "```\n"
      ],
      "metadata": {
        "id": "UFV08DKM-LPr"
      }
    },
    {
      "cell_type": "code",
      "source": [],
      "metadata": {
        "id": "iX9bh9ql9AxU"
      },
      "execution_count": null,
      "outputs": []
    },
    {
      "cell_type": "markdown",
      "source": [
        "#### **| 넘파이 배열과 형태**\n",
        "\n",
        "`NumPy` 는 파이썬에서 다차원 배열을 다루는 데 사용되는 핵심 라이브러리입니다. 이를 통해 고성능의 수치 계산과 데이터 분석 작업을 수행할 수 있습니다.\n",
        "\n",
        "`Numpy` 는 이미지를 읽거나 조정하는 라이브러리는 아니지만, 이미지를 데이터로 변환 후 효과적으로 다루기 위해 주로 사용합니다.\n",
        "\n",
        "```\n",
        "import numpy as np\n",
        "\n",
        "my_img = np.array(my_img)\n",
        "print('이미지 형태: ' , my_img.shape)\n",
        "```"
      ],
      "metadata": {
        "id": "P3ml8bJY-Sg_"
      }
    },
    {
      "cell_type": "code",
      "source": [],
      "metadata": {
        "id": "Tt4dXMr092ms"
      },
      "execution_count": null,
      "outputs": []
    },
    {
      "cell_type": "markdown",
      "source": [
        "---\n",
        "### **(2) RGB 이미지 다루기**\n",
        "---\n",
        "\n",
        "RGB 이미지는 우리 주변에서 흔하게 볼 수 있는 이미지 형식 중 하나입니다. 이러한 이미지는 빨간(Red), 초록(Green), 파란(Blue) 세 가지의 색상 채널을 가지고 있으며 색상 채널은 각각 0부터 255까지의 값을 가집니다.\n",
        "\n",
        "일반적으로 RGB 이미지는 넘파이 배열로 표현되며, 각 픽셀은 세 개의 값을 가진 3차원 배열로 표현됩니다. 이러한 배열을 사용하여 이미지의 픽셀 값을 확인하고 이미지를 다루는 방법을 배울 것입니다.\n",
        "\n",
        "이러한 이미지를 파이썬에서 다루기 위해서는 주로 `PIL` (Python Imaging Library), `OpenCV` (Open Source Computer Vision Library), `matplotlib` (Matplotlib Python plotting library) 등의 라이브러리를 사용합니다. 이러한 라이브러리를 이용하여 이미지를 불러오고, 표시하고, 처리할 수 있습니다."
      ],
      "metadata": {
        "id": "yaHsPD6ONlC0"
      }
    },
    {
      "cell_type": "markdown",
      "source": [
        "#### **| `PIL` 라이브러리 이용하기**\n",
        "\n",
        "`PIL`은 이미지 처리를 위한 파이썬 라이브러리로, 이미지를 로드하고 저장하는 등의 다양한 작업을 수행할 수 있습니다.\n",
        "\n",
        "```\n",
        "from PIL import Image # PIL 라이브러리 Image 이름으로 임포트\n",
        "import matplotlib.pyplot as plt # matplotlib 라이브러리 임포트\n",
        "\n",
        "# 이미지 파일 경로\n",
        "path = \"datasets/sample/colors.png\"\n",
        "\n",
        "# 이미지 불러오기\n",
        "img = Image.open(path)\n",
        "\n",
        "# 이미지 크기 확인하기\n",
        "print(\"이미지 크기:\", img.size)\n",
        "\n",
        "# 이미지 보기\n",
        "plt.imshow(img)\n",
        "plt.axis('off')\n",
        "plt.show()\n",
        "```"
      ],
      "metadata": {
        "id": "-BzRvDUBQ-rd"
      }
    },
    {
      "cell_type": "code",
      "source": [],
      "metadata": {
        "id": "YGMMT9jyFlAh"
      },
      "execution_count": null,
      "outputs": []
    },
    {
      "cell_type": "markdown",
      "source": [
        "#### **| `OpneCV` 라이브러리 이용하기**\n",
        "\n",
        "OpenCV(Open Source Computer Vision Library)는 실시간 컴퓨터 비전을 위한 라이브러리로, 이미지 및 비디오 처리에 사용됩니다. 주로 이미지 및 비디오 처리, 객체 감지 및 추적, 얼굴 인식, 이미지 필터링, 카메라 캘리브레이션 등의 작업에 널리 사용됩니다.\n",
        "\n",
        "그러나, OpenCV를 사용할 때 주의할 점이 있습니다. OpenCV는 기본적으로 이미지를 BGR(Blue, Green, Red) 형식으로 처리합니다. 이와 달리 대부분의 다른 라이브러리 및 프레임워크는 이미지를 RGB(Red, Green, Blue) 형식으로 처리합니다. 이로 인해 OpenCV로 처리한 이미지를 다른 라이브러리나 프레임워크에 전달할 때 채널 순서를 조정해야 할 수 있습니다. 이러한 채널 문제에 주의해야 합니다.\n",
        "\n",
        "```\n",
        "import cv2 # cv2 라이브러리 임포트\n",
        "import matplotlib.pyplot as plt # matplotlib 라이브러리 임포트\n",
        "\n",
        "# 이미지 파일 경로\n",
        "path = \"datasets/sample/colors.png\"\n",
        "\n",
        "# 이미지 불러오기\n",
        "img = cv2.imread(path)\n",
        "\n",
        "# 이미지 채널 변경\n",
        "img = cv2.cvtColor(img, cv2.COLOR_BGR2RGB)\n",
        "\n",
        "# 이미지 크기 확인하기\n",
        "print(\"이미지 형태:\", img.shape)\n",
        "\n",
        "# 이미지 보기\n",
        "plt.imshow(img)\n",
        "plt.axis('off')\n",
        "plt.show()\n",
        "\n",
        "```\n"
      ],
      "metadata": {
        "id": "EpGpAvcYUaLm"
      }
    },
    {
      "cell_type": "code",
      "source": [],
      "metadata": {
        "id": "d65p7I8vRjkG"
      },
      "execution_count": null,
      "outputs": []
    },
    {
      "cell_type": "markdown",
      "source": [
        "#### **| `Numpy` 라이브러리로 이미지 값 이해하기**\n",
        "\n"
      ],
      "metadata": {
        "id": "iuhxwthOVxL8"
      }
    },
    {
      "cell_type": "markdown",
      "source": [
        "**데이터 타입 확인**\n",
        "\n",
        "matplotlib 으로 불러들인 이미지의 타입을 확인해 봅시다.\n",
        "\n",
        "```\n",
        "type(color_img)\n",
        "\n",
        "```"
      ],
      "metadata": {
        "id": "BAxr4ccFGB7A"
      }
    },
    {
      "cell_type": "code",
      "source": [],
      "metadata": {
        "id": "dokSK-_OVoUQ"
      },
      "execution_count": null,
      "outputs": []
    },
    {
      "cell_type": "markdown",
      "source": [
        "**데이터 값 확인**\n",
        "이미지의 값을 부분적으로 확인해 봅니다.\n",
        "\n",
        "```\n",
        "print(color_img[100])\n",
        "```"
      ],
      "metadata": {
        "id": "Pia0ZkuWF021"
      }
    },
    {
      "cell_type": "code",
      "source": [],
      "metadata": {
        "id": "GRF3nP8UVs5F"
      },
      "execution_count": null,
      "outputs": []
    },
    {
      "cell_type": "markdown",
      "source": [
        "**데이터 분포 그리기**\n",
        "\n",
        "이미지의 전체 값이 어떻게 분포되어 있는지 그려 봅니다.\n",
        "\n",
        "```\n",
        "flatten = color_img.flatten() # 데이터 형태를 1차원으로 바꿉니다.\n",
        "print(flatten.shape)\n",
        "plt.hist(flatten) # 히스토그램을 그립니다.\n",
        "plt.show()\n",
        "```\n"
      ],
      "metadata": {
        "id": "mDcAZ4IFFsRp"
      }
    },
    {
      "cell_type": "code",
      "source": [],
      "metadata": {
        "id": "ym0bkg3GYSgy"
      },
      "execution_count": null,
      "outputs": []
    },
    {
      "cell_type": "markdown",
      "source": [
        "---\n",
        "### **(3) 흑백 이미지 다루기**\n",
        "---\n",
        "\n",
        "흑백 이미지는 각 픽셀의 밝기 값만으로 구성된 이미지입니다. 일반적으로 이러한 이미지는 하나의 색상 채널만을 가지며, 각 픽셀은 0부터 255까지의 값을 가집니다. 0은 픽셀이 완전히 검은색을 나타내고, 255는 픽셀이 완전히 흰색을 나타냅니다. 흑백 이미지는 주로 이미지 처리 및 패턴 인식 분야에서 사용됩니다.\n",
        "\n"
      ],
      "metadata": {
        "id": "QKHnPP1q-sOD"
      }
    },
    {
      "cell_type": "markdown",
      "source": [
        "#### **| 흑백모드로 불러오기**\n",
        "\n",
        "```\n",
        "import cv2 # cv2 라이브러리 임포트\n",
        "import matplotlib.pyplot as plt # 이미지 보기용\n",
        "\n",
        "# 이미지 파일 경로\n",
        "path = \"datasets/sample/gray.png\"\n",
        "\n",
        "# 이미지 불러오기\n",
        "gray_img = cv2.imread(path, cv2.IMREAD_GRAYSCALE)\n",
        "\n",
        "# 이미지 크기\n",
        "print(gray_img.shape)\n",
        "\n",
        "# 이미지 출력\n",
        "plt.imshow(gray_img, cmap='gray')\n",
        "plt.axis('off')\n",
        "plt.show()\n",
        "```"
      ],
      "metadata": {
        "id": "c3JAUjuR_Orr"
      }
    },
    {
      "cell_type": "code",
      "source": [],
      "metadata": {
        "id": "YdybjmpQYy_-"
      },
      "execution_count": null,
      "outputs": []
    },
    {
      "cell_type": "markdown",
      "source": [
        "#### **| RGB 이미지를 흑백모드로 불러오기**\n",
        "\n",
        "```\n",
        "import cv2 # cv2 라이브러리 임포트\n",
        "import matplotlib.pyplot as plt # 이미지 보기용\n",
        "\n",
        "# 이미지 파일 경로\n",
        "path = \"datasets/sample/colors.png\"\n",
        "\n",
        "# 이미지 불러오기\n",
        "gray_img = cv2.imread(path, cv2.IMREAD_GRAYSCALE)\n",
        "\n",
        "# 이미지 크기\n",
        "print(gray_img.shape)\n",
        "\n",
        "# 이미지 출력\n",
        "plt.imshow(gray_img, cmap='gray')\n",
        "plt.axis('off')\n",
        "plt.show()\n",
        "```"
      ],
      "metadata": {
        "id": "TMm7SS-GFK_D"
      }
    },
    {
      "cell_type": "code",
      "source": [],
      "metadata": {
        "id": "V2KOWApYFFWN"
      },
      "execution_count": null,
      "outputs": []
    },
    {
      "cell_type": "markdown",
      "source": [
        "---\n",
        "### **(4) 2D Depth 데이터 다루기**\n",
        "---\n",
        "\n",
        "2D Depth 이미지 데이터는 주로 깊이 정보를 포함하는 이미지 형식입니다. 이러한 이미지는 각 픽셀의 밝기나 색상 값 대신에 해당 픽셀로부터 객체까지의 거리나 깊이 정보를 나타냅니다.\n",
        "\n",
        "이러한 이미지는 주로 깊이 센서를 통해 측정된 실세계의 거리 정보를 시각적으로 표현하기 위해 사용됩니다. 예를 들어, 로봇이나 자율 주행 자동차에서 환경을 인식하고 장애물을 감지하는 데 사용될 수 있습니다.\n",
        "\n",
        "2D Depth 이미지는 보통 그레이스케일 형식으로 표현되며, 각 픽셀은 해당 지점에서 객체까지의 거리를 나타내는 값으로 표시됩니다. 이 값은 일반적으로 카메라에서 측정된 깊이 정보를 기반으로 계산됩니다.\n",
        "\n",
        "딥러닝 및 컴퓨터 비전 분야에서는 2D Depth 이미지 데이터를 사용하여 객체 감지, 세분화 및 이동 경로 계획과 같은 다양한 응용 프로그램을 개발하는 데 활용됩니다. Depth 이미지는 RGB 이미지와 결합하여 더욱 풍부한 환경 인식 및 이해를 제공할 수 있습니다."
      ],
      "metadata": {
        "id": "A5v_biPc_bYu"
      }
    },
    {
      "cell_type": "markdown",
      "source": [
        "#### **| 2D Depth 데이터 불러오기**\n",
        "\n",
        "```\n",
        "import cv2 # cv2 라이브러리 임포트\n",
        "import matplotlib.pyplot as plt # 이미지 보기용\n",
        "\n",
        "# 이미지 파일 경로\n",
        "path = \"datasets/sample/depth.png\"\n",
        "\n",
        "# 이미지 불러오기\n",
        "depth_img = cv2.imread(path, cv2.IMREAD_GRAYSCALE)\n",
        "\n",
        "# 이미지 크기\n",
        "print(depth_img.shape)\n",
        "\n",
        "# 이미지 출력\n",
        "plt.imshow(depth_img, cmap='gray')\n",
        "plt.axis('off')\n",
        "plt.show()\n",
        "```"
      ],
      "metadata": {
        "id": "rsaxYnDq_noQ"
      }
    },
    {
      "cell_type": "code",
      "source": [],
      "metadata": {
        "id": "6vx9IBPx7TRo"
      },
      "execution_count": null,
      "outputs": []
    },
    {
      "cell_type": "markdown",
      "source": [
        "#### **| Depth 데이터의 분포 확인하기**\n",
        "\n",
        "```\n",
        "plt.hist(depth_img.flatten())\n",
        "plt.show()\n",
        "```\n"
      ],
      "metadata": {
        "id": "bA-yeX0e_sfb"
      }
    },
    {
      "cell_type": "code",
      "source": [],
      "metadata": {
        "id": "gge_4rml7ffa"
      },
      "execution_count": null,
      "outputs": []
    },
    {
      "cell_type": "markdown",
      "source": [
        "#### **| 이미지 함께 그리기**\n",
        "\n",
        "```\n",
        "plt.imshow(color_img)\n",
        "plt.imshow( depth_img,\n",
        "            alpha=0.7, # 투명도를 조절합니다.\n",
        "            cmap='rainbow') # 값에 따른 색상을 조절합니다.  \n",
        "plt.axis('off')\n",
        "print(color_img.shape, depth_img.shape)\n",
        "```"
      ],
      "metadata": {
        "id": "6lVKKJlOArIu"
      }
    },
    {
      "cell_type": "code",
      "source": [],
      "metadata": {
        "id": "wFxq6XpI8xWS"
      },
      "execution_count": null,
      "outputs": []
    },
    {
      "cell_type": "markdown",
      "source": [
        "---\n",
        "### **(5) 2D Multi-channel 데이터 다루기**\n",
        "---\n",
        "\n",
        "2D Multi-channel 데이터는 여러 개의 채널을 가진 2차원 이미지 데이터를 의미합니다. 각 채널은 서로 다른 정보를 포함하고 있으며, 일반적으로 RGB 이미지와 같은 다양한 유형의 데이터를 나타낼 수 있습니다. 이러한 데이터는 컴퓨터 비전 및 이미지 처리 분야에서 다양한 응용 프로그램에 사용됩니다."
      ],
      "metadata": {
        "id": "EZlnfamoBcuP"
      }
    },
    {
      "cell_type": "markdown",
      "source": [
        "#### **| 여러 2d 데이터 합치기**\n",
        "\n",
        "이때까지 얻은 컬러 이미지, 흑백 이미지, Depth 이미지를 합쳐서 여러가지 채널을 가진 새로운 데이터를 만들어 보도록 하겠습니다.\n",
        "\n",
        "우선 우리가 합칠 이미지들의 형태를 먼저 파악할 필요가 있습니다.\n",
        "```\n",
        "print(color_img.shape, depth_img.shape, gray_img.shape)\n",
        "```\n"
      ],
      "metadata": {
        "id": "3lPUh7t6H_CF"
      }
    },
    {
      "cell_type": "code",
      "source": [],
      "metadata": {
        "id": "BIzesi5UAP2s"
      },
      "execution_count": null,
      "outputs": []
    },
    {
      "cell_type": "markdown",
      "source": [
        "**데이터의 형태 변경**\n",
        "\n",
        "형태를 보니 `depth_img`와 `gray_img`는 channel 방향의 dimension이 없습니다. dimension을 추가하겠습니다.\n",
        "\n",
        "```\n",
        "depth_img_ = np.expand_dims(depth_img, 2)\n",
        "print(depth_img_.shape)\n",
        "\n",
        "gray_img_ = np.expand_dims(gray_img, 2)\n",
        "print(gray_img_.shape)\n",
        "```"
      ],
      "metadata": {
        "id": "6kPeK8faIWrM"
      }
    },
    {
      "cell_type": "code",
      "source": [],
      "metadata": {
        "id": "GPlpbMb-CNQA"
      },
      "execution_count": null,
      "outputs": []
    },
    {
      "cell_type": "markdown",
      "source": [
        "**데이터 합치기**\n",
        "\n",
        "이제 데이터들을 합칠 준비가 되었습니다. 합칠 때에는 `np.concatenate`를 사용합니다.\n",
        "\n",
        "우리가 만들 데이터의 최종 형태는 아래와 같이 채널방향으로 합쳐지길 원합니다.\n",
        "\n",
        "> (480, 640, 3) + (480, 640, 1) + (480, 640, 1) = (480, 640, 5)\n",
        "\n",
        "따라서 합칠 때 기준 축을 설정해 주어야 하는데, 우리가 원하는 채널 방향의 축은 다음과 같이 2번째 axis에 속합니다.\n",
        "\n",
        "\n",
        "> (0, 1, 2)\n",
        "\n",
        "따라서 `axis=2` 라는 옵션을 주어야 합니다.\n",
        "\n",
        "```\n",
        "print('합칠 데이터 형태 : ', color_img.shape, depth_img_.shape, gray_img_.shape)\n",
        "multi_img = np.concatenate((color_img, depth_img_, gray_img_), axis=2)\n",
        "print('최종 데이터 형태 : ', multi_img.shape)\n",
        "```"
      ],
      "metadata": {
        "id": "CfKO5PWRIzMa"
      }
    },
    {
      "cell_type": "code",
      "source": [],
      "metadata": {
        "id": "Bk4XyqrkCmVK"
      },
      "execution_count": null,
      "outputs": []
    },
    {
      "cell_type": "markdown",
      "source": [
        "**넘파이 배열로 저장하고 불러오기**"
      ],
      "metadata": {
        "id": "-wOlCd9yMQeH"
      }
    },
    {
      "cell_type": "markdown",
      "source": [
        "5개의 채널을 가지고 있기 때문에 아쉽게도 `png`나 `jpg` 파일로 저장하기는 어렵습니다. `numpy` 배열 그대로 저장해 보겠습니다.\n",
        "\n",
        "```\n",
        "np.save('test.npy', multi_img) # 배열을 'test.npy'로 저장\n",
        "test = np.load('test.npy') # 'test.npy' 불러오기\n",
        "print(test.shape) # 불러 온 배열 형태 확인\n",
        "```"
      ],
      "metadata": {
        "id": "nhYgP_onI8Ul"
      }
    },
    {
      "cell_type": "code",
      "source": [],
      "metadata": {
        "id": "UpaPWH8AEbpM"
      },
      "execution_count": null,
      "outputs": []
    },
    {
      "cell_type": "markdown",
      "source": [
        "#### **| 특정 채널 확인하기**\n",
        "\n",
        "우리는 우리가 만든 `multi_img`의 각 채널이 어떤 의미를 가지는지 미리 알고 있습니다.\n",
        "\n",
        "* 0~2 : 컬러 이미지 데이터\n",
        "* 3 : Depth 데이터\n",
        "* 4 : 흑백 이미지 데이터\n",
        "\n",
        "이렇게 배열로 저장되어 있는 데이터에서 우리가 원하는 데이터를 찾고 가져오는 것은 중요합니다. 이를 가능하게 하는 개념이 인덱싱과 슬라이싱입니다.\n",
        "\n",
        "인덱싱과 슬라이싱은 넘파이에서부터 파이토치의 텐서까지 데이터를 다루는 과정에서 매우 중요한 개념입니다. 데이터의 선택과 조작에 있어서 이러한 개념을 이해하고 숙지하는 것은 데이터 과학 및 기계 학습 분야에서 필수적입니다.\n",
        "\n"
      ],
      "metadata": {
        "id": "Vzv9Ks1JMIAb"
      }
    },
    {
      "cell_type": "markdown",
      "source": [
        "**Indexing 으로 특정 채널 확인하기**\n",
        "\n",
        "넘파이 배열을 인덱싱하여 특정 요소를 선택할 수 있습니다. 인덱싱은 배열의 각 차원에 대해 해당 차원의 인덱스를 지정하여 해당 요소를 선택합니다.\n",
        "\n",
        "```\n",
        "img = multi_img[:,:,3] # 3번째 채널 인덱싱\n",
        "print(img.shape)\n",
        "\n",
        "plt.imshow(img, cmap='gray')\n",
        "plt.axis('off')\n",
        "plt.show()\n",
        "```"
      ],
      "metadata": {
        "id": "7l46-Ag8OjSt"
      }
    },
    {
      "cell_type": "code",
      "source": [],
      "metadata": {
        "id": "Vj1gRtVfMPYL"
      },
      "execution_count": null,
      "outputs": []
    },
    {
      "cell_type": "markdown",
      "source": [
        "**슬라이싱 으로 여러 채널 범위 확인하기**\n",
        "\n",
        "넘파이 배열을 슬라이싱하여 배열의 일부를 선택할 수 있습니다. 슬라이싱은 배열의 각 차원에 대해 범위를 지정하여 해당 범위 내의 요소를 선택합니다.\n",
        "\n",
        "\n",
        "```\n",
        "img = multi_img[:,:,0:3] # 0,1,2 채널 슬라이싱\n",
        "print(img.shape)\n",
        "\n",
        "plt.imshow(img, cmap='gray')\n",
        "plt.axis('off')\n",
        "plt.show()\n",
        "```"
      ],
      "metadata": {
        "id": "uNaJ1abeOv7p"
      }
    },
    {
      "cell_type": "code",
      "source": [],
      "metadata": {
        "id": "Gf-n-DDmNWdA"
      },
      "execution_count": null,
      "outputs": []
    }
  ]
}