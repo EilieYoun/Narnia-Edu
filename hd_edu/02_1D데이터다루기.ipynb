{
  "nbformat": 4,
  "nbformat_minor": 0,
  "metadata": {
    "colab": {
      "provenance": [],
      "authorship_tag": "ABX9TyM+zhPRK8LmdRWDkCczmplv",
      "include_colab_link": true
    },
    "kernelspec": {
      "name": "python3",
      "display_name": "Python 3"
    },
    "language_info": {
      "name": "python"
    }
  },
  "cells": [
    {
      "cell_type": "markdown",
      "metadata": {
        "id": "view-in-github",
        "colab_type": "text"
      },
      "source": [
        "<a href=\"https://colab.research.google.com/github/EilieYoun/Narnia-Edu/blob/main/hd_edu/02_1D%EB%8D%B0%EC%9D%B4%ED%84%B0%EB%8B%A4%EB%A3%A8%EA%B8%B0.ipynb\" target=\"_parent\"><img src=\"https://colab.research.google.com/assets/colab-badge.svg\" alt=\"Open In Colab\"/></a>"
      ]
    },
    {
      "cell_type": "markdown",
      "source": [
        "# 02. 1D 데이터 다루기\n",
        "\n",
        "> 목표 : 1D 데이터에 대해 이해하고, 여러가지 1D 형식 데이터를 다룬다.\n",
        "* 날짜:\n",
        "* 이름:"
      ],
      "metadata": {
        "id": "ckO7gFdTGN8y"
      }
    },
    {
      "cell_type": "markdown",
      "source": [
        "## 개념정리\n",
        "---\n",
        "\n",
        "\n",
        "이 강의에서는 1차원 데이터를 다루는 기본적인 작업들을 다룹니다. 1차원 데이터는 다양한 형식으로 저장될 수 있습니다. 대표적으로는 텍스트 파일(txt), JSON 파일, CSV 파일 등이 있습니다. 각 형식의 데이터를 읽고, 처리하는 방법을 배우게 될 것입니다. 또한 1차원 데이터를 간단하게 시각화하여 데이터의 분포와 패턴을 파악하는 방법도 다룰 예정입니다. 이러한 작업들은 데이터 분석 및 기계 학습 프로젝트에서 매우 중요한 첫 단계이며, 데이터를 이해하고 분석하는 데 필수적입니다. 따라서 이번 강의를 통해 여러분은 데이터를 효과적으로 다루고 분석하는 데 필요한 기본적인 스킬을 습득할 것입니다.\n",
        "\n",
        "\n",
        "**목차**\n",
        "\n",
        "- 데이터 경로 및 파일 확인하기\n",
        "- txt 파일 다루기\n",
        "- json 파일 다루기\n",
        "- csv 파일 다루기\n",
        "- 데이터 시각화\n"
      ],
      "metadata": {
        "id": "8mRVUAYzGQz5"
      }
    },
    {
      "cell_type": "markdown",
      "source": [
        "---\n",
        "### **(1) 데이터 경로 및 파일 확인하기**\n",
        "---\n",
        "\n",
        "데이터를 다루기 위한 첫번째 단계는 데이터가 어디있는지 경로를 확보하는 것입니다. 현재 내가 스크립트를 작성하는 경로와 데이터가 존재하는 경로를 각각 이해 하여야 그에 맞게 데이터를 가져오고, 저장 할 수 있습니다. 데이터 경로를 확인하는 몇가지 방법을 배워보도록 하겠습니다.\n"
      ],
      "metadata": {
        "id": "PA57OOCiGWn0"
      }
    },
    {
      "cell_type": "markdown",
      "source": [
        "#### **| `os` 라이브러리 이용하기**"
      ],
      "metadata": {
        "id": "0xORxFG4JB54"
      }
    },
    {
      "cell_type": "markdown",
      "source": [
        "\n",
        "\n",
        "우선 `os` 라이브러리를 사용할수 있도록 `import` 해줍니다.\n",
        "\n",
        "```\n",
        "import os\n",
        "\n",
        "```"
      ],
      "metadata": {
        "id": "X734-2G-GaZK"
      }
    },
    {
      "cell_type": "code",
      "source": [],
      "metadata": {
        "id": "U_R3x5l7GObU"
      },
      "execution_count": null,
      "outputs": []
    },
    {
      "cell_type": "markdown",
      "source": [
        "현재 작업중인 경로를 출력합니다.\n",
        "\n",
        "```\n",
        "os.getcwd()\n",
        "```"
      ],
      "metadata": {
        "id": "s2VrW6YyGjxN"
      }
    },
    {
      "cell_type": "code",
      "source": [],
      "metadata": {
        "id": "JrzhhqphGkx8"
      },
      "execution_count": null,
      "outputs": []
    },
    {
      "cell_type": "markdown",
      "source": [
        "현재 위치의 파일이나 폴더를 리스트로 반환합니다.\n",
        "\n",
        "```\n",
        "os.listdir()\n",
        "```"
      ],
      "metadata": {
        "id": "oH-p4i5qHBTc"
      }
    },
    {
      "cell_type": "code",
      "source": [],
      "metadata": {
        "id": "fIlRNYWKHFyQ"
      },
      "execution_count": null,
      "outputs": []
    },
    {
      "cell_type": "markdown",
      "source": [
        "특정 경로 위치의 파일이나 폴더를 리스트로 반환합니다.\n",
        "```\n",
        "path = \"\" # 경로를 설정해 주세요\n",
        "os.listdir(path)\n",
        "```"
      ],
      "metadata": {
        "id": "2LptMlOIHLvJ"
      }
    },
    {
      "cell_type": "code",
      "source": [],
      "metadata": {
        "id": "RK8cPvKeHN1u"
      },
      "execution_count": null,
      "outputs": []
    },
    {
      "cell_type": "markdown",
      "source": [
        "#### **| `glob` 라이브러리 이용하기**"
      ],
      "metadata": {
        "id": "s_e40t5SJEP4"
      }
    },
    {
      "cell_type": "markdown",
      "source": [
        "```\n",
        "import glob\n",
        "```"
      ],
      "metadata": {
        "id": "n_CfhzkOJHXu"
      }
    },
    {
      "cell_type": "code",
      "source": [],
      "metadata": {
        "id": "WhFmthvgJF5a"
      },
      "execution_count": null,
      "outputs": []
    },
    {
      "cell_type": "markdown",
      "source": [
        "특정경로의 폴더 또는 파일의 절대경로를 불러옵니다. `\"*\"`는 \"모든것\"를 뜻합니다.\n",
        "\n",
        "```\n",
        "glob.glob('datasets/*') # datasets 폴더안의 모든 이름을 가진 폴더 / 파일의 경로를 불러오기\n",
        "```"
      ],
      "metadata": {
        "id": "JQNPEw3-JMaA"
      }
    },
    {
      "cell_type": "code",
      "source": [],
      "metadata": {
        "id": "Ni4Ov2YkJHmL"
      },
      "execution_count": null,
      "outputs": []
    },
    {
      "cell_type": "markdown",
      "source": [
        "다음과 같이 특정 이름으로 끝나는 폴더 또는 파일의 경로만 찾을 수도 있습니다.\n",
        "\n",
        "```\n",
        "glob.glob('datasets/sample/*png') # datasets/sample 폴더안의 png 로 끝나는 이름을 가진 폴더 /파일의 경로를 불러오기\n",
        "```"
      ],
      "metadata": {
        "id": "HGH42WwvJW_H"
      }
    },
    {
      "cell_type": "code",
      "source": [],
      "metadata": {
        "id": "1_2RDb6uJhCL"
      },
      "execution_count": null,
      "outputs": []
    },
    {
      "cell_type": "markdown",
      "source": [
        "---\n",
        "### (2) txt 파일 다루기\n",
        "---\n",
        "\n",
        "텍스트 파일은 일반적으로 .txt 확장자를 가집니다. 이러한 파일은 주로 간단한 텍스트 문서, 로그 파일, 구조화되지 않은 데이터 파일 등을 저장하는 데 사용됩니다.\n",
        "\n",
        "파이썬에서는 텍스트 파일을 다루는 다양한 기능을 제공합니다. 파일을 열고 읽고 쓰는 등의 작업을 수행할 수 있으며, 이를 통해 데이터를 읽어들이고 가공할 수 있습니다. 텍스트 파일을 처리하는 것은 데이터 분석, 로깅, 설정 파일 저장 등 다양한 용도로 활용됩니다.\n",
        "\n"
      ],
      "metadata": {
        "id": "_bPQmM0KKhDQ"
      }
    },
    {
      "cell_type": "markdown",
      "source": [
        "#### **| txt 파일 작성하기**\n",
        "\n",
        "파일을 읽어 문자열로 반환합니다.\n",
        "\n",
        "```\n",
        "# 파일 경로\n",
        "file_path = \"example.txt\"\n",
        "\n",
        "# 텍스트 데이터\n",
        "text_data = \"This is an example text file\"\n",
        "\n",
        "# 텍스트 파일 작성\n",
        "with open(file_path, \"w\") as file:\n",
        "    file.write(text_data)\n",
        "```"
      ],
      "metadata": {
        "id": "6jKUgGDuZymw"
      }
    },
    {
      "cell_type": "code",
      "source": [],
      "metadata": {
        "id": "9dYT3JNJaDEd"
      },
      "execution_count": null,
      "outputs": []
    },
    {
      "cell_type": "markdown",
      "source": [
        "#### **| txt 파일 읽기**\n",
        "\n",
        "파일을 읽어 문자열로 반환합니다.\n",
        "\n",
        "```\n",
        "# 파일 경로\n",
        "file_path = \"example.txt\"\n",
        "\n",
        "# 텍스트 파일 읽기 모드\n",
        "with open(file_path, \"r\") as file:\n",
        "    text_content = file.read()\n",
        "\n",
        "print(text_content)\n",
        "```"
      ],
      "metadata": {
        "id": "H4EXzYyEKsZV"
      }
    },
    {
      "cell_type": "code",
      "source": [],
      "metadata": {
        "id": "15wW-3T1Khc0"
      },
      "execution_count": null,
      "outputs": []
    },
    {
      "cell_type": "markdown",
      "source": [
        "---\n",
        "### (3) json 파일 다루기\n",
        "---\n",
        "\n",
        "\n",
        "JSON 파일은 데이터를 저장하고 전송하기 위한 일반적인 형식으로 사용됩니다. 파이썬에서는 JSON 파일을 다루는 다양한 기능을 제공합니다. JSON 파일을 읽고 쓰는 방법을 배우면 데이터를 효율적으로 관리하고 처리할 수 있습니다. JSON 파일을 작성할 때는 데이터를 적절한 형식으로 구성하여 저장하고, 읽을 때는 파이썬의 json 라이브러리를 사용하여 데이터를 쉽게 로드할 수 있습니다. JSON 파일은 데이터를 보관하거나 다른 프로그램과 데이터를 교환하는 데에 유용하며, 웹 애플리케이션과의 상호 작용 및 API 통신에도 널리 사용됩니다.\n",
        "\n",
        "\n",
        "\n",
        "\n",
        "\n",
        "\n"
      ],
      "metadata": {
        "id": "QQBE9YDFZc6Y"
      }
    },
    {
      "cell_type": "markdown",
      "source": [
        "json 파일을 파이썬에서 읽고 쓰기 위해서는 json 라이브러리를 먼저 임포트할 필요가 있습니다.\n",
        "\n",
        "```\n",
        "import json\n",
        "```"
      ],
      "metadata": {
        "id": "o5Xl3jcacO0x"
      }
    },
    {
      "cell_type": "code",
      "source": [],
      "metadata": {
        "id": "QhX1vAAAciN-"
      },
      "execution_count": null,
      "outputs": []
    },
    {
      "cell_type": "markdown",
      "source": [
        "#### **| json 파일 작성하기**\n",
        "\n",
        "파일을 읽어 문자열로 반환합니다.\n",
        "\n",
        "```\n",
        "# 데이터\n",
        "data = [\n",
        "    {\"name\": \"John\", \"age\": 30, \"city\": \"New York\"},\n",
        "    {\"name\": \"Kim\", \"age\": 33, \"city\": \"Seoul\"}\n",
        "]\n",
        "\n",
        "# 저장할 파일 경로\n",
        "file_path = \"example.json\"\n",
        "\n",
        "# JSON 파일 쓰기모드 \"w\"\n",
        "with open(file_path, \"w\") as json_file:\n",
        "    json.dump(data, json_file)\n",
        "```"
      ],
      "metadata": {
        "id": "gWeU88_OcJ--"
      }
    },
    {
      "cell_type": "code",
      "source": [],
      "metadata": {
        "id": "crYSJAA4bNh3"
      },
      "execution_count": null,
      "outputs": []
    },
    {
      "cell_type": "markdown",
      "source": [
        "#### **| json 파일 읽기**\n",
        "\n",
        "파일을 읽어 문자열로 반환합니다.\n",
        "\n",
        "```\n",
        "# 불러올 파일 경로\n",
        "file_path = \"example.json\"\n",
        "\n",
        "# JSON 파일 읽기모드 \"r\"\n",
        "with open(file_path, \"r\") as json_file:\n",
        "    json_content = json.load(json_file)\n",
        "\n",
        "# 데이터 출력\n",
        "print(json_content)\n",
        "\n",
        "```\n"
      ],
      "metadata": {
        "id": "MtCbwF7qcHHc"
      }
    },
    {
      "cell_type": "code",
      "source": [],
      "metadata": {
        "id": "xgWMd_hxZQFe"
      },
      "execution_count": null,
      "outputs": []
    },
    {
      "cell_type": "markdown",
      "source": [
        "---\n",
        "### (4) csv 파일 다루기\n",
        "---\n",
        "\n",
        "CSV 파일은 Comma-Separated Values(쉼표로 구분된 값)의 약자로, 데이터를 저장하는 데 널리 사용되는 파일 형식 중 하나입니다. 각 행은 줄 바꿈으로 구분되고, 각 열은 쉼표(또는 다른 구분 기호)로 구분됩니다. 주로 텍스트 편집기나 스프레드시트 프로그램에서 사용할 수 있으며, 데이터베이스 및 테이블과 같은 구조적 데이터를 저장하는 데 특히 유용합니다.\n",
        "\n",
        "CSV 파일은 데이터베이스나 엑셀과 같은 프로그램 간에 데이터를 공유하거나 전송하는 데 사용되며, 간단하고 효율적인 데이터 저장 방식으로 널리 알려져 있습니다. 파이썬에서는 csv 모듈을 사용하여 CSV 파일을 읽고 쓸 수 있습니다. 데이터를 테이블 형식으로 저장하고 처리할 때 많이 활용됩니다.\n",
        "\n",
        "csv 파일을 파이썬에서 읽고 쓰기 위해서는 여러 방법이 있지만, 이번 시간에서는 가장 많이 쓰이는 `pandas` 라이브러리를 이용해 보겠습니다. 먼저 `pandas` 라이브러리를 임포트 하겟습니다.\n",
        "\n",
        "```\n",
        "import pandas as pd\n",
        "```"
      ],
      "metadata": {
        "id": "1QCVVo6bdKqI"
      }
    },
    {
      "cell_type": "code",
      "source": [],
      "metadata": {
        "id": "BddOBKI2dL3f"
      },
      "execution_count": null,
      "outputs": []
    },
    {
      "cell_type": "markdown",
      "source": [
        "#### **| csv 파일 작성하기**\n",
        "\n",
        "데이터 형식에 주의하여 csv 파일을 작성해 봅니다.\n",
        "\n",
        "```\n",
        "# 데이터\n",
        "data = { \"name\":[\"John\", \"Kim\", \"Lee\", \"Youn\", \"Park\", \"Kate\", \"Hanna\"],\n",
        "        \"age\": [30, 33, 27, 34, 23, 33, 30],\n",
        "        \"city\": [\"New York\", \"Seoul\", \"Seoul\", \"Daegu\", \"Seoul\", \"New York\", \"Seoul\"]}\n",
        "\n",
        "\n",
        "# 데이터프레임 형식으로 변환\n",
        "df = pd.DataFrame(data)\n",
        "\n",
        "# 저장할 파일 경로\n",
        "file_path = 'example.csv'\n",
        "\n",
        "# CSV 파일로 저장\n",
        "df.to_csv('example.csv', index=False)\n",
        "```"
      ],
      "metadata": {
        "id": "SjRN9iFudzhP"
      }
    },
    {
      "cell_type": "code",
      "source": [],
      "metadata": {
        "id": "H7mBnVCQeHdh"
      },
      "execution_count": null,
      "outputs": []
    },
    {
      "cell_type": "markdown",
      "source": [
        "#### **| csv 파일 읽기**\n",
        "\n",
        "파일을 읽어 문자열로 반환합니다.\n",
        "\n",
        "```\n",
        "# 불러올 파일 경로\n",
        "file_path = 'example.csv'\n",
        "\n",
        "# CSV 파일 읽기\n",
        "df = pd.read_csv(file_path)\n",
        "\n",
        "# 데이터프레임 출력\n",
        "print(df)\n",
        "\n",
        "```"
      ],
      "metadata": {
        "id": "MnbMMbTbf-b2"
      }
    },
    {
      "cell_type": "code",
      "source": [],
      "metadata": {
        "id": "7P85NoiHeRwp"
      },
      "execution_count": null,
      "outputs": []
    },
    {
      "cell_type": "markdown",
      "source": [
        "---\n",
        "### (4) 데이터 시각화\n",
        "---\n",
        "\n",
        "시각화는 데이터 분석 및 이해를 돕는 강력한 도구입니다. 데이터를 시각적으로 표현함으로써 패턴, 추세, 상관 관계 등을 더 쉽게 파악할 수 있습니다. 이를 통해 데이터의 복잡성을 줄이고 인사이트를 발견할 수 있습니다.\n",
        "\n",
        "파이썬에서 시각화를 제공하는 라이브러리는 다양합니다. 이번 시간에서는 그 중 Seaborn 라이브러리를 이용해 간단한 시각화 예제를 진행해 보겠습니다.\n",
        "\n",
        "파이썬에서 CSV 파일을 Pandas로 불러오면 Seaborn과 함께 사용하여 데이터를 시각화할 수 있습니다. Seaborn은 파이썬의 대표적인 시각화 라이브러리로, 간편하고 효과적인 시각화 도구를 제공합니다. Seaborn은 다양한 차트 및 플롯 유형을 지원하며, 복잡한 데이터 구조를 시각적으로 탐색할 수 있도록 도와줍니다.\n",
        "\n",
        "먼저 seaborn 라이브러리를 임포트 합니다.\n",
        "\n",
        "```\n",
        "import seaborn as sns\n",
        "```"
      ],
      "metadata": {
        "id": "4bwianevh9zg"
      }
    },
    {
      "cell_type": "code",
      "source": [],
      "metadata": {
        "id": "1AKxQ3LhiCTd"
      },
      "execution_count": null,
      "outputs": []
    },
    {
      "cell_type": "markdown",
      "source": [
        "#### **| histplot**\n",
        "\n",
        "\n",
        "히스토그램은 데이터의 분포를 시각화하는 데 사용되는 그래프 중 하나입니다. 주어진 데이터를 구간으로 나누고 각 구간에 속하는 데이터의 빈도를 막대 형태로 나타냅니다. 이를 통해 데이터의 분포와 중심 경향을 파악할 수 있습니다.\n",
        "\n",
        "히스토그램을 생성하려면 숫자형 변수가 필요합니다. 일반적으로 연속형 또는 이산형 데이터가 히스토그램의 대상이 됩니다. 예를 들어, 길이, 주행거리, 온도 등과 같은 수치적인 데이터를 히스토그램으로 시각화할 수 있습니다.\n",
        "\n",
        "```\n",
        "_=sns.histplot(df, # 위에서 불러온 csv 파일을 대상으로 그립니다.\n",
        "               x='age', # 'age' 라는 변수에 대해 히스토그램을 그립니다.\n",
        "               bins=5, # 구간을 5개로 나눕니다.\n",
        "               kde=True, #  커널 밀도 추정 그래프를 표시할지 여부를 지정합니다\n",
        "               color='blue' # 히스토그램의 색상을 지정합니다\n",
        "               )\n",
        "```"
      ],
      "metadata": {
        "id": "R0Cz6E75kFQn"
      }
    },
    {
      "cell_type": "code",
      "source": [],
      "metadata": {
        "id": "7ONtyIoyklVc"
      },
      "execution_count": null,
      "outputs": []
    },
    {
      "cell_type": "markdown",
      "source": [
        "#### **| countplot**\n",
        "\n",
        "seaborn 의 countplot은 카테고리별로 데이터의 빈도를 막대 그래프로 표현하는 seaborn의 함수입니다. 이 그래프는 주로 범주형 변수의 각 카테고리에 속하는 데이터의 개수를 시각화하는 데 사용됩니다. 즉, 각 카테고리에 속하는 데이터의 수를 세어 그 수를 막대로 나타내어 데이터의 분포를 쉽게 파악할 수 있습니다. countplot은 범주형 변수가 주어졌을 때 해당 변수의 값의 빈도를 시각적으로 보여주어 데이터셋의 구성을 파악하는 데 유용합니다.\n",
        "```\n",
        "_=sns.countplot(df, # 위에서 불러온 csv 파일을 대상으로 그립니다.\n",
        "                x='city', # 'city' 라는 변수에 대해 히스토그램을 그립니다.\n",
        "                color='blue' #  색상을 지정합니다\n",
        ")\n",
        "```\n",
        "         "
      ],
      "metadata": {
        "id": "1DrPgJ0QlsaB"
      }
    },
    {
      "cell_type": "code",
      "source": [],
      "metadata": {
        "id": "ksT6yksimV3n"
      },
      "execution_count": null,
      "outputs": []
    }
  ]
}